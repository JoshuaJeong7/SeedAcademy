{
 "cells": [
  {
   "cell_type": "markdown",
   "id": "60da1959-995c-42b8-9cd7-ce703bfd721f",
   "metadata": {},
   "source": [
    "# Python: If statements"
   ]
  },
  {
   "cell_type": "markdown",
   "id": "4358da16-ec6e-4a4c-a6c3-3b67b8fd5439",
   "metadata": {},
   "source": [
    "## Question 1a:\n",
    "\n",
    "## Change the variable 'age' to print \"Minor\""
   ]
  },
  {
   "cell_type": "code",
   "execution_count": 1,
   "id": "23f2a27c-4bcb-45c9-977c-3565b31c0611",
   "metadata": {},
   "outputs": [
    {
     "name": "stdout",
     "output_type": "stream",
     "text": [
      "Minor\n"
     ]
    }
   ],
   "source": [
    "age = 11 # any number between 3 and 17\n",
    "if age < 0:\n",
    "    print(\"Invalid age\")\n",
    "elif age < 3:\n",
    "    print(\"Baby\")\n",
    "elif age < 18:\n",
    "    print(\"Minor\")\n",
    "elif age < 60:\n",
    "    print(\"Adult\")\n",
    "else:\n",
    "    print(\"Elder\")"
   ]
  },
  {
   "cell_type": "markdown",
   "id": "a60e13d9-aea0-43a4-ac23-b8544e1447f7",
   "metadata": {},
   "source": [
    "## Question 1b:\n",
    "## Change the variable 'age' to print \"Invalid age\""
   ]
  },
  {
   "cell_type": "code",
   "execution_count": 3,
   "id": "2827e94f-3fab-4785-a176-6abd42a68f8e",
   "metadata": {},
   "outputs": [
    {
     "name": "stdout",
     "output_type": "stream",
     "text": [
      "Invalid age\n"
     ]
    }
   ],
   "source": [
    "age = -1 # any number less than zero\n",
    "if age < 0:\n",
    "    print(\"Invalid age\")\n",
    "elif age < 3:\n",
    "    print(\"Baby\")\n",
    "elif age < 18:\n",
    "    print(\"Minor\")\n",
    "elif age < 60:\n",
    "    print(\"Adult\")\n",
    "else:\n",
    "    print(\"Elder\")"
   ]
  },
  {
   "cell_type": "markdown",
   "id": "2eab2e71-497e-4c4d-993b-cc18b369bdd5",
   "metadata": {},
   "source": [
    "## Question 1c:\n",
    "## Change the variable 'age' to print \"Elder\""
   ]
  },
  {
   "cell_type": "code",
   "execution_count": 5,
   "id": "cb4692c2-c374-4951-8b49-a26c592019a5",
   "metadata": {},
   "outputs": [
    {
     "name": "stdout",
     "output_type": "stream",
     "text": [
      "Elder\n"
     ]
    }
   ],
   "source": [
    "age = 100 # any number equal to or greater than 60\n",
    "if age < 0:\n",
    "    print(\"Invalid age\")\n",
    "elif age < 3:\n",
    "    print(\"Baby\")\n",
    "elif age < 18:\n",
    "    print(\"Minor\")\n",
    "elif age < 60:\n",
    "    print(\"Adult\")\n",
    "else:\n",
    "    print(\"Elder\")"
   ]
  },
  {
   "cell_type": "markdown",
   "id": "4286b707-a70c-4c0a-9975-c07ed4beb10e",
   "metadata": {},
   "source": [
    "## Question 2:\n",
    "## Change the following code to only print \"You lose\" if 'did_win' is False\n"
   ]
  },
  {
   "cell_type": "code",
   "execution_count": 7,
   "id": "c6deb482-f4f7-4c3b-a772-7baab5e7d568",
   "metadata": {},
   "outputs": [
    {
     "name": "stdout",
     "output_type": "stream",
     "text": [
      "You won!\n"
     ]
    }
   ],
   "source": [
    "did_win = True\n",
    "if did_win:\n",
    "    print(\"You won!\")\n",
    "else: #add an else statement in order to make \"You lose\" print only when did_win is False\n",
    "    print(\"You lose\")"
   ]
  },
  {
   "cell_type": "code",
   "execution_count": 9,
   "id": "300a37e9-628d-4f04-ae00-4af0645abd04",
   "metadata": {},
   "outputs": [
    {
     "name": "stdout",
     "output_type": "stream",
     "text": [
      "You lose\n"
     ]
    }
   ],
   "source": [
    "did_win = False\n",
    "if did_win:\n",
    "    print(\"You won!\")\n",
    "else:\n",
    "    print(\"You lose\")"
   ]
  },
  {
   "cell_type": "markdown",
   "id": "d0b0e307-00e6-43cb-bdc3-0b3c0676eefa",
   "metadata": {},
   "source": [
    "## Question 3a:\n",
    "## Change the variable 'x' to print \"Flower\""
   ]
  },
  {
   "cell_type": "code",
   "execution_count": 11,
   "id": "b42287ba-8d61-4889-8a42-494cb5427146",
   "metadata": {},
   "outputs": [
    {
     "name": "stdout",
     "output_type": "stream",
     "text": [
      "Flower\n"
     ]
    }
   ],
   "source": [
    "x = 1000 # any number between 901 and 1000\n",
    "if x < 10:\n",
    "    if x > 3:\n",
    "        print(\"Apple\")\n",
    "    else:\n",
    "        print(\"Orange\")\n",
    "elif x > 500:\n",
    "    if x > 1000:\n",
    "        if x < 1100:\n",
    "            print(\"Yellow\")\n",
    "        else:\n",
    "            print(\"Banana\")\n",
    "    elif x > 900:\n",
    "        print(\"Flower\")\n",
    "else:\n",
    "    if x < 100:\n",
    "        print(\"Melon\")\n",
    "    else:\n",
    "        print(\"Blueberry\")"
   ]
  },
  {
   "cell_type": "markdown",
   "id": "2514711f-ab85-44ed-b789-1a1a0f9a95e3",
   "metadata": {},
   "source": [
    "## Question 3b:\n",
    "## Change the variable 'x' to print \"Banana\""
   ]
  },
  {
   "cell_type": "code",
   "execution_count": 13,
   "id": "3bf75d6e-0f68-4763-be26-471588664d99",
   "metadata": {},
   "outputs": [
    {
     "name": "stdout",
     "output_type": "stream",
     "text": [
      "Banana\n"
     ]
    }
   ],
   "source": [
    "x = 2000 # any number equal to or greater than 1100\n",
    "if x < 10:\n",
    "    if x > 3:\n",
    "        print(\"Apple\")\n",
    "    else:\n",
    "        print(\"Orange\")\n",
    "elif x > 500:\n",
    "    if x > 1000:\n",
    "        if x < 1100:\n",
    "            print(\"Yellow\")\n",
    "        else:\n",
    "            print(\"Banana\")\n",
    "    elif x > 900:\n",
    "        print(\"Flower\")\n",
    "else:\n",
    "    if x < 100:\n",
    "        print(\"Melon\")\n",
    "    else:\n",
    "        print(\"Blueberry\")"
   ]
  },
  {
   "cell_type": "markdown",
   "id": "81fb02e6-30d0-4cc2-974b-669afd79a3da",
   "metadata": {},
   "source": [
    "## Question 3c:\n",
    "## Change the variable 'x' to print nothing"
   ]
  },
  {
   "cell_type": "code",
   "execution_count": 15,
   "id": "d2d0ba61-13b3-414e-a7dd-dea379bba603",
   "metadata": {},
   "outputs": [],
   "source": [
    "x = 600 # any number between 501 and 900\n",
    "if x < 10:\n",
    "    if x > 3:\n",
    "        print(\"Apple\")\n",
    "    else:\n",
    "        print(\"Orange\")\n",
    "elif x > 500:\n",
    "    if x > 1000:\n",
    "        if x < 1100:\n",
    "            print(\"Yellow\")\n",
    "        else:\n",
    "            print(\"Banana\")\n",
    "    elif x > 900:\n",
    "        print(\"Flower\")\n",
    "else:\n",
    "    if x < 100:\n",
    "        print(\"Melon\")\n",
    "    else:\n",
    "        print(\"Blueberry\")"
   ]
  },
  {
   "cell_type": "markdown",
   "id": "ae89a7d9-1082-4d3b-94cc-1bedb461c7f6",
   "metadata": {},
   "source": [
    "## Question 4:\n",
    "## Make your own password\n",
    "Make a variable 'password' set to the keyword \"George Washington\", and print \"Access granted\" only if the password is \"George Washington, otherwise print \"Access denied\""
   ]
  },
  {
   "cell_type": "code",
   "execution_count": 17,
   "id": "b5282b42-4eef-42e7-8b9d-1c2b716af537",
   "metadata": {},
   "outputs": [
    {
     "name": "stdout",
     "output_type": "stream",
     "text": [
      "Access granted\n"
     ]
    }
   ],
   "source": [
    "password = \"George Washington\"\n",
    "if password == \"George Washington\":\n",
    "    print(\"Access granted\")\n",
    "else:\n",
    "    print(\"Access denied\")"
   ]
  },
  {
   "cell_type": "code",
   "execution_count": null,
   "id": "45333341-0a75-4109-9177-e6a72b800a7e",
   "metadata": {},
   "outputs": [],
   "source": []
  }
 ],
 "metadata": {
  "kernelspec": {
   "display_name": "Python 3 (ipykernel)",
   "language": "python",
   "name": "python3"
  },
  "language_info": {
   "codemirror_mode": {
    "name": "ipython",
    "version": 3
   },
   "file_extension": ".py",
   "mimetype": "text/x-python",
   "name": "python",
   "nbconvert_exporter": "python",
   "pygments_lexer": "ipython3",
   "version": "3.12.4"
  }
 },
 "nbformat": 4,
 "nbformat_minor": 5
}
