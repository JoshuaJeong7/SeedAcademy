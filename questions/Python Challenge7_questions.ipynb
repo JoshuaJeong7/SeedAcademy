{
 "cells": [
  {
   "cell_type": "markdown",
   "id": "60da1959-995c-42b8-9cd7-ce703bfd721f",
   "metadata": {},
   "source": [
    "# Python: If statements"
   ]
  },
  {
   "cell_type": "markdown",
   "id": "4358da16-ec6e-4a4c-a6c3-3b67b8fd5439",
   "metadata": {},
   "source": [
    "## Question 1a:\n",
    "\n",
    "## Change the variable 'age' to print \"Minor\""
   ]
  },
  {
   "cell_type": "markdown",
   "id": "a60e13d9-aea0-43a4-ac23-b8544e1447f7",
   "metadata": {},
   "source": [
    "## Question 1b:\n",
    "## Change the variable 'age' to print \"Invalid age\""
   ]
  },
  {
   "cell_type": "markdown",
   "id": "2eab2e71-497e-4c4d-993b-cc18b369bdd5",
   "metadata": {},
   "source": [
    "## Question 1c:\n",
    "## Change the variable 'age' to print \"Elder\""
   ]
  },
  {
   "cell_type": "code",
   "execution_count": 1,
   "id": "cb4692c2-c374-4951-8b49-a26c592019a5",
   "metadata": {},
   "outputs": [
    {
     "name": "stdout",
     "output_type": "stream",
     "text": [
      "Baby\n"
     ]
    }
   ],
   "source": [
    "age = 0\n",
    "if age < 0:\n",
    "    print(\"Invalid age\")\n",
    "elif age < 3:\n",
    "    print(\"Baby\")\n",
    "elif age < 18:\n",
    "    print(\"Minor\")\n",
    "elif age < 60:\n",
    "    print(\"Adult\")\n",
    "else:\n",
    "    print(\"Elder\")"
   ]
  },
  {
   "cell_type": "markdown",
   "id": "4286b707-a70c-4c0a-9975-c07ed4beb10e",
   "metadata": {},
   "source": [
    "## Question 2:\n",
    "## Change the following code to only print \"You lose\" if 'did_win' is False\n"
   ]
  },
  {
   "cell_type": "code",
   "execution_count": 3,
   "id": "c6deb482-f4f7-4c3b-a772-7baab5e7d568",
   "metadata": {},
   "outputs": [
    {
     "name": "stdout",
     "output_type": "stream",
     "text": [
      "You won!\n",
      "You lose\n"
     ]
    }
   ],
   "source": [
    "did_win = True\n",
    "if did_win:\n",
    "    print(\"You won!\")\n",
    "print(\"You lose\")"
   ]
  },
  {
   "cell_type": "markdown",
   "id": "9ecb72b9-a1ba-4087-bf4e-fa745ac975e5",
   "metadata": {},
   "source": [
    "did_win = True <br> Expected output:\n",
    "```\n",
    "You won!\n",
    "```\n"
   ]
  },
  {
   "cell_type": "markdown",
   "id": "6f44c3b4-d89c-43e7-9724-433a92310d93",
   "metadata": {},
   "source": [
    "did_win = False <br> Expected output:\n",
    "```\n",
    "You lose\n",
    "```"
   ]
  },
  {
   "cell_type": "markdown",
   "id": "d0b0e307-00e6-43cb-bdc3-0b3c0676eefa",
   "metadata": {},
   "source": [
    "## Question 3a:\n",
    "## Change the variable 'x' to print \"Flower\""
   ]
  },
  {
   "cell_type": "markdown",
   "id": "2514711f-ab85-44ed-b789-1a1a0f9a95e3",
   "metadata": {},
   "source": [
    "## Question 3b:\n",
    "## Change the variable 'x' to print \"Banana\""
   ]
  },
  {
   "cell_type": "markdown",
   "id": "81fb02e6-30d0-4cc2-974b-669afd79a3da",
   "metadata": {},
   "source": [
    "## Question 3c:\n",
    "## Change the variable 'x' to print nothing"
   ]
  },
  {
   "cell_type": "code",
   "execution_count": 5,
   "id": "d2d0ba61-13b3-414e-a7dd-dea379bba603",
   "metadata": {},
   "outputs": [
    {
     "name": "stdout",
     "output_type": "stream",
     "text": [
      "Melon\n"
     ]
    }
   ],
   "source": [
    "x = 40\n",
    "if x < 10:\n",
    "    if x > 3:\n",
    "        print(\"Apple\")\n",
    "    else:\n",
    "        print(\"Orange\")\n",
    "elif x > 500:\n",
    "    if x > 1000:\n",
    "        if x < 1100:\n",
    "            print(\"Yellow\")\n",
    "        else:\n",
    "            print(\"Banana\")\n",
    "    elif x > 900:\n",
    "        print(\"Flower\")\n",
    "else:\n",
    "    if x < 100:\n",
    "        print(\"Melon\")\n",
    "    else:\n",
    "        print(\"Blueberry\")"
   ]
  },
  {
   "cell_type": "markdown",
   "id": "ae89a7d9-1082-4d3b-94cc-1bedb461c7f6",
   "metadata": {},
   "source": [
    "## Question 4:\n",
    "## Make your own password\n",
    "Make a variable 'password' set to the keyword \"George Washington\", and print \"Access granted\" only if the password is \"George Washington, otherwise print \"Access denied\""
   ]
  },
  {
   "cell_type": "code",
   "execution_count": null,
   "id": "b5282b42-4eef-42e7-8b9d-1c2b716af537",
   "metadata": {},
   "outputs": [],
   "source": [
    "password = \n",
    "if \"\"\"change this code\"\"\":\n",
    "    print(\"Access granted\")\n",
    "else:\n",
    "    print(\"Access denied\")"
   ]
  }
 ],
 "metadata": {
  "kernelspec": {
   "display_name": "Python 3 (ipykernel)",
   "language": "python",
   "name": "python3"
  },
  "language_info": {
   "codemirror_mode": {
    "name": "ipython",
    "version": 3
   },
   "file_extension": ".py",
   "mimetype": "text/x-python",
   "name": "python",
   "nbconvert_exporter": "python",
   "pygments_lexer": "ipython3",
   "version": "3.12.4"
  }
 },
 "nbformat": 4,
 "nbformat_minor": 5
}
